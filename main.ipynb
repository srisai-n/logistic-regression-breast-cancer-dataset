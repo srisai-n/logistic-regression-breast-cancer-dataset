{
 "cells": [
  {
   "cell_type": "markdown",
   "metadata": {},
   "source": [
    "# CSE 574 Introduction to Machine Learning Fall 2019 Project 1\n",
    "# Logistic Regression based Classification of Breast Cancer Tumors\n",
    "## Srisai Karthik Neelamraju, neelamra@buffalo.edu"
   ]
  },
  {
   "cell_type": "markdown",
   "metadata": {},
   "source": [
    "### Importing the required libraries"
   ]
  },
  {
   "cell_type": "code",
   "execution_count": 1,
   "metadata": {},
   "outputs": [],
   "source": [
    "import numpy as np\n",
    "import pandas as pd\n",
    "from sklearn import model_selection, preprocessing, metrics\n",
    "import matplotlib.pyplot as plt"
   ]
  },
  {
   "cell_type": "markdown",
   "metadata": {},
   "source": [
    "### Helper Functions"
   ]
  },
  {
   "cell_type": "code",
   "execution_count": 2,
   "metadata": {},
   "outputs": [],
   "source": [
    "# function to calculate logistic sigmoid\n",
    "def sigmoid(z):\n",
    "    return 1 / (1 + np.exp(-z))\n",
    "\n",
    "# function to predict target values using computed weights and bias\n",
    "def predict_labels(X, W, b):\n",
    "    Y_pred = sigmoid(np.dot(W.T, X) + b) >= 0.5\n",
    "    return Y_pred.astype(int)\n",
    "\n",
    "# function to calculate F1 score\n",
    "def get_f1_score(Y_actual, Y_predicted):\n",
    "    return metrics.f1_score(Y_actual, Y_predicted)\n",
    "\n",
    "# function to calculate accuracy\n",
    "def get_accuracy(Y_actual, Y_predicted):\n",
    "    return metrics.accuracy_score(Y_actual, Y_predicted)\n",
    "\n",
    "# function to calculate precision\n",
    "def get_precision(Y_actual, Y_predicted):\n",
    "    return metrics.precision_score(Y_actual, Y_predicted)\n",
    "\n",
    "# function to calculate recall\n",
    "def get_recall(Y_actual, Y_predicted):\n",
    "    return metrics.recall_score(Y_actual, Y_predicted)\n",
    "\n",
    "# function to calculate confusion matrix\n",
    "def get_confusion_matrix(Y_actual, Y_predicted):\n",
    "    return metrics.confusion_matrix(Y_actual, Y_predicted)"
   ]
  },
  {
   "cell_type": "markdown",
   "metadata": {},
   "source": [
    "### Reading the dataset (.csv file)"
   ]
  },
  {
   "cell_type": "code",
   "execution_count": 3,
   "metadata": {},
   "outputs": [],
   "source": [
    "dataset = pd.read_csv('wdbc.csv', header=None)"
   ]
  },
  {
   "cell_type": "markdown",
   "metadata": {},
   "source": [
    "### Preprocessing the dataset"
   ]
  },
  {
   "cell_type": "code",
   "execution_count": 4,
   "metadata": {},
   "outputs": [],
   "source": [
    "# dropping the id column\n",
    "dataset = dataset.drop(0, axis=1)\n",
    "\n",
    "# mapping the label column to 0s and 1s\n",
    "map_label = dataset.loc[:, 1].map({'B': 0, 'M':1})\n",
    "dataset[1] = map_label\n",
    "\n",
    "# input features\n",
    "X = dataset.loc[:, 2:dataset.shape[1]]\n",
    "\n",
    "# output labels (target values)\n",
    "Y = dataset.loc[:, 1]\n",
    "\n",
    "# scaling the features\n",
    "std_scaler = preprocessing.StandardScaler()\n",
    "X = std_scaler.fit_transform(X)\n",
    "\n",
    "# normalizing the features\n",
    "X = preprocessing.normalize(X, norm='l2')"
   ]
  },
  {
   "cell_type": "markdown",
   "metadata": {},
   "source": [
    "### Partitioning the data into training, validation and testing data"
   ]
  },
  {
   "cell_type": "code",
   "execution_count": 5,
   "metadata": {},
   "outputs": [],
   "source": [
    "# splitting the dataset as 80% training + 10% validation + 10% testing\n",
    "X_train, X_rem, Y_train, Y_rem = model_selection.train_test_split(X, Y, train_size = 0.80)\n",
    "X_val, X_test, Y_val, Y_test = model_selection.train_test_split(X_rem, Y_rem, test_size = 0.50)"
   ]
  },
  {
   "cell_type": "markdown",
   "metadata": {},
   "source": [
    "### Reshaping the training, validation and testing data"
   ]
  },
  {
   "cell_type": "code",
   "execution_count": 6,
   "metadata": {},
   "outputs": [],
   "source": [
    "# reshaping X_train, X_val and X_test such that features are along the rows and instances are along the columns\n",
    "X_train = np.array(X_train.T)\n",
    "X_val = np.array(X_val.T)\n",
    "X_test = np.array(X_test.T)\n",
    "\n",
    "# reshaping Y_train, Y_val and Y_test to get rid of rank 1 Python arrays\n",
    "Y_train = np.array(Y_train).reshape(1, Y_train.shape[0])\n",
    "Y_val = np.array(Y_val).reshape(1, Y_val.shape[0])\n",
    "Y_test = np.array(Y_test).reshape(1, Y_test.shape[0])"
   ]
  },
  {
   "cell_type": "markdown",
   "metadata": {},
   "source": [
    "### Initializing weights and bias"
   ]
  },
  {
   "cell_type": "code",
   "execution_count": 7,
   "metadata": {},
   "outputs": [],
   "source": [
    "# initializing weights and bias with samples from U[0, 1)\n",
    "W = np.random.rand(X_train.shape[0], 1)\n",
    "b = np.random.rand()"
   ]
  },
  {
   "cell_type": "markdown",
   "metadata": {},
   "source": [
    "### Declaring hyperparameters for the algorithm"
   ]
  },
  {
   "cell_type": "code",
   "execution_count": 8,
   "metadata": {},
   "outputs": [],
   "source": [
    "# number of epochs for training\n",
    "epochs = 10000\n",
    "\n",
    "# learning rate for gradient descent\n",
    "learning_rate = 0.1"
   ]
  },
  {
   "cell_type": "markdown",
   "metadata": {},
   "source": [
    "### Implementing Logistic Regression with Gradient Descent"
   ]
  },
  {
   "cell_type": "code",
   "execution_count": 9,
   "metadata": {},
   "outputs": [],
   "source": [
    "# lists to keep track of training and validation losses\n",
    "loss_train = []\n",
    "loss_val = []\n",
    "\n",
    "# lists to keep track of training and validation accuracies\n",
    "accuracy_train = []\n",
    "accuracy_val = []\n",
    "\n",
    "# lists to keep track of performance metrics on test set\n",
    "accuracy_test = []\n",
    "precision_test = []\n",
    "recall_test = []\n",
    "f1_score_test = []\n",
    "\n",
    "# number of training and validation set instances\n",
    "m_train = X_train.shape[1]\n",
    "m_val = X_val.shape[1]\n",
    "\n",
    "# implementing the algorithm for \"epochs\" number of iterations\n",
    "for epoch in range(epochs):\n",
    "\n",
    "    # forward propagation\n",
    "    Z = np.dot(W.T, X_train) + b\n",
    "    A = sigmoid(Z)\n",
    "    \n",
    "    # cost function\n",
    "    cost_train = (-1/m_train) * np.sum(np.multiply(Y_train, np.log(A)) + np.multiply(1 - Y_train, np.log(1 - A)))\n",
    "    loss_train.append(cost_train)\n",
    "    \n",
    "    # backward propagation\n",
    "    dZ = A - Y_train\n",
    "    dW = (1/m_train) * np.dot(X_train, dZ.T)\n",
    "    db = (1/m_train) * np.sum(dZ)\n",
    "    \n",
    "    # gradient descent\n",
    "    W = W - learning_rate * dW\n",
    "    b = b - learning_rate * db\n",
    "    \n",
    "    # valdation loss after updating weights and bias\n",
    "    Y_pred_val = sigmoid(np.dot(W.T, X_val) + b)\n",
    "    cost_val = (-1/m_val) * np.sum(np.multiply(Y_val, np.log(Y_pred_val)) + np.multiply(1 - Y_val, np.log(1 - Y_pred_val)))\n",
    "    loss_val.append(cost_val)\n",
    "    \n",
    "    # training accuracy\n",
    "    Y_pred_train = predict_labels(X_train, W, b)\n",
    "    accuracy_train.append(get_accuracy(Y_train[0], Y_pred_train[0]))\n",
    "    \n",
    "    # validation accuracy\n",
    "    Y_pred_val = predict_labels(X_val, W, b)\n",
    "    accuracy_val.append(get_accuracy(Y_val[0], Y_pred_val[0]))\n",
    "    \n",
    "    # evaluating metrics on test set\n",
    "    Y_pred_test = predict_labels(X_test, W, b)\n",
    "    accuracy_test.append(get_accuracy(Y_test[0], Y_pred_test[0]))\n",
    "    precision_test.append(get_precision(Y_test[0], Y_pred_test[0]))\n",
    "    recall_test.append(get_recall(Y_test[0], Y_pred_test[0]))\n",
    "    f1_score_test.append(get_f1_score(Y_test[0], Y_pred_test[0]))"
   ]
  },
  {
   "cell_type": "markdown",
   "metadata": {},
   "source": [
    "### Comparing loss for training and validation sets"
   ]
  },
  {
   "cell_type": "code",
   "execution_count": 10,
   "metadata": {},
   "outputs": [
    {
     "data": {
      "image/png": "[encoded data removed]",
      "text/plain": [
       "<Figure size 432x288 with 1 Axes>"
      ]
     },
     "metadata": {
      "needs_background": "light"
     },
     "output_type": "display_data"
    },
    {
     "data": {
      "text/plain": [
       "<Figure size 432x288 with 0 Axes>"
      ]
     },
     "execution_count": 10,
     "metadata": {},
     "output_type": "execute_result"
    },
    {
     "data": {
      "text/plain": [
       "<Figure size 432x288 with 0 Axes>"
      ]
     },
     "metadata": {},
     "output_type": "display_data"
    }
   ],
   "source": [
    "plt.plot(range(epochs), loss_train, color='red', linestyle='dashed', linewidth=1.4, label='training')\n",
    "plt.plot(range(epochs), loss_val, color='orange', linestyle='dashed', linewidth=1.4, label='validation')\n",
    "plt.grid(color='#ADD8E6', linestyle='-', linewidth=0.6)\n",
    "plt.title('Comparison of training and validation loss')\n",
    "plt.xlabel('Number of epochs')\n",
    "plt.ylabel('Loss')\n",
    "plt.legend(loc='upper right')\n",
    "plt.savefig('train_vs_val_loss.jpg', format='jpg', dpi=1000)\n",
    "plt.show()\n",
    "plt.figure()"
   ]
  },
  {
   "cell_type": "markdown",
   "metadata": {},
   "source": [
    "### Comparing accuracy for training and validation sets"
   ]
  },
  {
   "cell_type": "code",
   "execution_count": 11,
   "metadata": {},
   "outputs": [
    {
     "data": {
      "image/png": "[encoded data removed]",
      "text/plain": [
       "<Figure size 432x288 with 1 Axes>"
      ]
     },
     "metadata": {
      "needs_background": "light"
     },
     "output_type": "display_data"
    },
    {
     "data": {
      "text/plain": [
       "<Figure size 432x288 with 0 Axes>"
      ]
     },
     "execution_count": 11,
     "metadata": {},
     "output_type": "execute_result"
    },
    {
     "data": {
      "text/plain": [
       "<Figure size 432x288 with 0 Axes>"
      ]
     },
     "metadata": {},
     "output_type": "display_data"
    }
   ],
   "source": [
    "plt.plot(range(epochs), accuracy_train, color='red', linestyle='dashed', linewidth=1.4, label='training')\n",
    "plt.plot(range(epochs), accuracy_val, color='orange', linestyle='dashed', linewidth=1.4, label='validation')\n",
    "plt.grid(color='#ADD8E6', linestyle='-', linewidth=0.6)\n",
    "plt.title('Comparison of training and validation accuracy')\n",
    "plt.xlabel('Number of epochs')\n",
    "plt.ylabel('Accuracy')\n",
    "plt.legend(loc='lower right')\n",
    "plt.savefig('train_vs_val_accuracy.jpg', format='jpg', dpi=1000)\n",
    "plt.show()\n",
    "plt.figure()"
   ]
  },
  {
   "cell_type": "markdown",
   "metadata": {},
   "source": [
    "### Plotting accuracy, precision, recall and F1 score on test set"
   ]
  },
  {
   "cell_type": "code",
   "execution_count": 12,
   "metadata": {},
   "outputs": [
    {
     "data": {
      "image/png": "[encoded data removed]",
      "text/plain": [
       "<Figure size 432x288 with 1 Axes>"
      ]
     },
     "metadata": {
      "needs_background": "light"
     },
     "output_type": "display_data"
    },
    {
     "data": {
      "text/plain": [
       "<Figure size 432x288 with 0 Axes>"
      ]
     },
     "execution_count": 12,
     "metadata": {},
     "output_type": "execute_result"
    },
    {
     "data": {
      "text/plain": [
       "<Figure size 432x288 with 0 Axes>"
      ]
     },
     "metadata": {},
     "output_type": "display_data"
    }
   ],
   "source": [
    "plt.plot(range(epochs), accuracy_test, color='red', linestyle='dashed', linewidth=1.4, label='accuracy')\n",
    "plt.plot(range(epochs), precision_test, color='orange', linestyle='dashed', linewidth=1.4, label='precision')\n",
    "plt.plot(range(epochs), recall_test, color='green', linestyle='dashed', linewidth=1.4, label='recall')\n",
    "plt.plot(range(epochs), f1_score_test, color='blue', linestyle='dashed', linewidth=1.4, label='F1 score')\n",
    "plt.grid(color='#ADD8E6', linestyle='-', linewidth=0.6)\n",
    "plt.title('Performance of the model on test set')\n",
    "plt.xlabel('Number of epochs')\n",
    "plt.ylabel('Value of performance metric')\n",
    "plt.legend(loc='lower right')\n",
    "plt.savefig('performance_test.jpg', format='jpg', dpi=1000)\n",
    "plt.show()\n",
    "plt.figure()"
   ]
  },
  {
   "cell_type": "markdown",
   "metadata": {},
   "source": [
    "### Predicting output labels for test data"
   ]
  },
  {
   "cell_type": "code",
   "execution_count": 13,
   "metadata": {},
   "outputs": [],
   "source": [
    "# Y_pred_train = predict_labels(X_train, W, b)\n",
    "# Y_pred_val = predict_labels(X_val, W, b)\n",
    "Y_pred_test = predict_labels(X_test, W, b)"
   ]
  },
  {
   "cell_type": "markdown",
   "metadata": {},
   "source": [
    "### Evaluating the logistic regression model"
   ]
  },
  {
   "cell_type": "markdown",
   "metadata": {},
   "source": [
    "#### F1 Score"
   ]
  },
  {
   "cell_type": "code",
   "execution_count": 14,
   "metadata": {
    "scrolled": true
   },
   "outputs": [
    {
     "name": "stdout",
     "output_type": "stream",
     "text": [
      "F1 Score on the test set - 0.9696969696969697\n"
     ]
    }
   ],
   "source": [
    "# print(\"F1 Score on the training set -\", get_f1_score(Y_train[0], Y_pred_train[0]))\n",
    "# print(\"F1 Score on the validation set -\", get_f1_score(Y_val[0], Y_pred_val[0]))\n",
    "print(\"F1 Score on the test set -\", get_f1_score(Y_test[0], Y_pred_test[0]))"
   ]
  },
  {
   "cell_type": "markdown",
   "metadata": {},
   "source": [
    "#### Accuracy"
   ]
  },
  {
   "cell_type": "code",
   "execution_count": 15,
   "metadata": {},
   "outputs": [
    {
     "name": "stdout",
     "output_type": "stream",
     "text": [
      "Accuracy on the test set - 0.9824561403508771\n"
     ]
    }
   ],
   "source": [
    "# print(\"Accuracy on the training set -\", get_accuracy(Y_train[0], Y_pred_train[0]))\n",
    "# print(\"Accuracy on the validation set -\", get_accuracy(Y_val[0], Y_pred_val[0]))\n",
    "print(\"Accuracy on the test set -\", get_accuracy(Y_test[0], Y_pred_test[0]))"
   ]
  },
  {
   "cell_type": "markdown",
   "metadata": {},
   "source": [
    "#### Precision"
   ]
  },
  {
   "cell_type": "code",
   "execution_count": 16,
   "metadata": {},
   "outputs": [
    {
     "name": "stdout",
     "output_type": "stream",
     "text": [
      "Precision on the test set - 0.9411764705882353\n"
     ]
    }
   ],
   "source": [
    "# print(\"Precision on the training set -\", get_precision(Y_train[0], Y_pred_train[0]))\n",
    "# print(\"Precision on the validation set -\", get_precision(Y_val[0], Y_pred_val[0]))\n",
    "print(\"Precision on the test set -\", get_precision(Y_test[0], Y_pred_test[0]))"
   ]
  },
  {
   "cell_type": "markdown",
   "metadata": {},
   "source": [
    "#### Recall"
   ]
  },
  {
   "cell_type": "code",
   "execution_count": 17,
   "metadata": {},
   "outputs": [
    {
     "name": "stdout",
     "output_type": "stream",
     "text": [
      "Recall on the test set - 1.0\n"
     ]
    }
   ],
   "source": [
    "# print(\"Recall on the training set -\", get_recall(Y_train[0], Y_pred_train[0]))\n",
    "# print(\"Recall on the validation set -\", get_recall(Y_val[0], Y_pred_val[0]))\n",
    "print(\"Recall on the test set -\", get_recall(Y_test[0], Y_pred_test[0]))"
   ]
  },
  {
   "cell_type": "markdown",
   "metadata": {},
   "source": [
    "#### Confusion Matrix"
   ]
  },
  {
   "cell_type": "code",
   "execution_count": 18,
   "metadata": {},
   "outputs": [
    {
     "name": "stdout",
     "output_type": "stream",
     "text": [
      "Test set: Confusion Matrix - [[40  1]\n",
      " [ 0 16]]\n"
     ]
    }
   ],
   "source": [
    "# print(\"Training set: Confusion Matrix -\", get_confusion_matrix(Y_train[0], Y_pred_train[0]))\n",
    "# print(\"Validation set: Confusion Matrix -\", get_confusion_matrix(Y_val[0], Y_pred_val[0]))\n",
    "print(\"Test set: Confusion Matrix -\", get_confusion_matrix(Y_test[0], Y_pred_test[0]))"
   ]
  }
 ],
 "metadata": {
  "kernelspec": {
   "display_name": "Python 3",
   "language": "python",
   "name": "python3"
  },
  "language_info": {
   "codemirror_mode": {
    "name": "ipython",
    "version": 3
   },
   "file_extension": ".py",
   "mimetype": "text/x-python",
   "name": "python",
   "nbconvert_exporter": "python",
   "pygments_lexer": "ipython3",
   "version": "3.7.3"
  }
 },
 "nbformat": 4,
 "nbformat_minor": 2
}
